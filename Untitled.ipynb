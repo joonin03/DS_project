{
 "cells": [
  {
   "cell_type": "code",
   "execution_count": 1,
   "id": "a3ab8c20-35b6-4236-8124-655a7d765b88",
   "metadata": {},
   "outputs": [],
   "source": [
    "import pandas as pd\n",
    "import numpy as np\n",
    "import FinanceDataReader as fdr"
   ]
  },
  {
   "cell_type": "code",
   "execution_count": 3,
   "id": "75b1901c-f966-4832-8480-b42c70c7c656",
   "metadata": {},
   "outputs": [],
   "source": [
    "# 코스피 상장 종목 리스트 가져오기\n",
    "kospi_list = fdr.StockListing('KOSPI')\n",
    "\n",
    "# 예: 시가총액 상위 3개 ticker만 가져오기\n",
    "tickers = kospi_list['Code'].head(20).tolist()\n",
    "\n",
    "data = {}\n",
    "for ticker in tickers:\n",
    "    df = fdr.DataReader(ticker, '2023-01-01')\n",
    "    data[ticker] = df['Close']\n",
    "\n",
    "price_df = pd.concat(data, axis=1)"
   ]
  },
  {
   "cell_type": "code",
   "execution_count": 7,
   "id": "1f27e231-79a0-4687-8277-477852dd9f80",
   "metadata": {},
   "outputs": [],
   "source": [
    "# 6개월 수익률 계산\n",
    "momentum = price_df.pct_change(6).iloc[6:]"
   ]
  },
  {
   "cell_type": "code",
   "execution_count": 9,
   "id": "f7f792c4-667e-4f1a-84e4-1665d1c139ef",
   "metadata": {},
   "outputs": [],
   "source": [
    "# 상위/하위 20% 구간\n",
    "quantile_long = momentum.rank(axis=1, pct=True) >= 0.8\n",
    "quantile_short = momentum.rank(axis=1, pct=True) <= 0.2"
   ]
  },
  {
   "cell_type": "code",
   "execution_count": 11,
   "id": "7c647861-a447-41c2-9e5b-31d047e7996e",
   "metadata": {},
   "outputs": [],
   "source": [
    "# 롱 = +1, 숏 = -1\n",
    "weights = quantile_long.astype(int) - quantile_short.astype(int)\n",
    "\n",
    "# 동일 비중 (합계 0 유지)\n",
    "weights = weights.div(weights.abs().sum(axis=1), axis=0)\n"
   ]
  },
  {
   "cell_type": "code",
   "execution_count": 13,
   "id": "8452e6b4-bfa1-4fd0-909d-14da1c54c571",
   "metadata": {},
   "outputs": [],
   "source": [
    "returns = price_df.pct_change().shift(-1)\n",
    "portfolio_return = (weights * returns).sum(axis=1)\n",
    "cumulative_return = (1 + portfolio_return).cumprod()\n"
   ]
  },
  {
   "cell_type": "code",
   "execution_count": null,
   "id": "3de7ab0a-ca5a-460b-84dc-dc86419ad5d8",
   "metadata": {},
   "outputs": [],
   "source": []
  }
 ],
 "metadata": {
  "kernelspec": {
   "display_name": "quant",
   "language": "python",
   "name": "quant"
  },
  "language_info": {
   "codemirror_mode": {
    "name": "ipython",
    "version": 3
   },
   "file_extension": ".py",
   "mimetype": "text/x-python",
   "name": "python",
   "nbconvert_exporter": "python",
   "pygments_lexer": "ipython3",
   "version": "3.12.11"
  }
 },
 "nbformat": 4,
 "nbformat_minor": 5
}
